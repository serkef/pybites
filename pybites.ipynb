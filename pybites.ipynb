{
 "cells": [
  {
   "cell_type": "markdown",
   "metadata": {},
   "source": [
    "Zen of Python"
   ]
  },
  {
   "cell_type": "code",
   "execution_count": 2,
   "metadata": {},
   "outputs": [
    {
     "name": "stdout",
     "output_type": "stream",
     "text": [
      "The Zen of Python, by Tim Peters\n",
      "\n",
      "Beautiful is better than ugly.\n",
      "Explicit is better than implicit.\n",
      "Simple is better than complex.\n",
      "Complex is better than complicated.\n",
      "Flat is better than nested.\n",
      "Sparse is better than dense.\n",
      "Readability counts.\n",
      "Special cases aren't special enough to break the rules.\n",
      "Although practicality beats purity.\n",
      "Errors should never pass silently.\n",
      "Unless explicitly silenced.\n",
      "In the face of ambiguity, refuse the temptation to guess.\n",
      "There should be one-- and preferably only one --obvious way to do it.\n",
      "Although that way may not be obvious at first unless you're Dutch.\n",
      "Now is better than never.\n",
      "Although never is often better than *right* now.\n",
      "If the implementation is hard to explain, it's a bad idea.\n",
      "If the implementation is easy to explain, it may be a good idea.\n",
      "Namespaces are one honking great idea -- let's do more of those!\n"
     ]
    }
   ],
   "source": [
    "import this"
   ]
  },
  {
   "cell_type": "markdown",
   "metadata": {},
   "source": [
    "Antigravity"
   ]
  },
  {
   "cell_type": "code",
   "execution_count": 4,
   "metadata": {},
   "outputs": [],
   "source": [
    "import antigravity"
   ]
  },
  {
   "cell_type": "markdown",
   "metadata": {},
   "source": [
    "Braces"
   ]
  },
  {
   "cell_type": "code",
   "execution_count": 6,
   "metadata": {},
   "outputs": [
    {
     "ename": "SyntaxError",
     "evalue": "not a chance (<ipython-input-6-b9e031678f96>, line 1)",
     "output_type": "error",
     "traceback": [
      "\u001b[0;36m  File \u001b[0;32m\"<ipython-input-6-b9e031678f96>\"\u001b[0;36m, line \u001b[0;32m1\u001b[0m\n\u001b[0;31m    from __future__ import braces\u001b[0m\n\u001b[0m                                  ^\u001b[0m\n\u001b[0;31mSyntaxError\u001b[0m\u001b[0;31m:\u001b[0m not a chance\n"
     ]
    }
   ],
   "source": [
    "from __future__ import braces "
   ]
  },
  {
   "cell_type": "markdown",
   "metadata": {},
   "source": [
    "All / Any"
   ]
  },
  {
   "cell_type": "code",
   "execution_count": 8,
   "metadata": {},
   "outputs": [],
   "source": [
    "list_ = [True, True, False]"
   ]
  },
  {
   "cell_type": "code",
   "execution_count": 9,
   "metadata": {},
   "outputs": [
    {
     "data": {
      "text/plain": [
       "True"
      ]
     },
     "execution_count": 9,
     "metadata": {},
     "output_type": "execute_result"
    }
   ],
   "source": [
    "any(list_)"
   ]
  },
  {
   "cell_type": "code",
   "execution_count": 10,
   "metadata": {},
   "outputs": [
    {
     "data": {
      "text/plain": [
       "False"
      ]
     },
     "execution_count": 10,
     "metadata": {},
     "output_type": "execute_result"
    }
   ],
   "source": [
    "all(list_)"
   ]
  },
  {
   "cell_type": "code",
   "execution_count": 11,
   "metadata": {},
   "outputs": [],
   "source": [
    "numbers = [1, 2, 3, 4, 5, 6, 0, 8, 9, 10]"
   ]
  },
  {
   "cell_type": "code",
   "execution_count": 12,
   "metadata": {},
   "outputs": [
    {
     "data": {
      "text/plain": [
       "True"
      ]
     },
     "execution_count": 12,
     "metadata": {},
     "output_type": "execute_result"
    }
   ],
   "source": [
    "any(x==0 for x in numbers)"
   ]
  },
  {
   "cell_type": "code",
   "execution_count": 13,
   "metadata": {},
   "outputs": [
    {
     "data": {
      "text/plain": [
       "True"
      ]
     },
     "execution_count": 13,
     "metadata": {},
     "output_type": "execute_result"
    }
   ],
   "source": [
    "all(x<100 for x in numbers)"
   ]
  },
  {
   "cell_type": "markdown",
   "metadata": {},
   "source": [
    "dir"
   ]
  },
  {
   "cell_type": "code",
   "execution_count": 15,
   "metadata": {},
   "outputs": [
    {
     "data": {
      "text/plain": [
       "['__add__',\n",
       " '__class__',\n",
       " '__contains__',\n",
       " '__delattr__',\n",
       " '__delitem__',\n",
       " '__dir__',\n",
       " '__doc__',\n",
       " '__eq__',\n",
       " '__format__',\n",
       " '__ge__',\n",
       " '__getattribute__',\n",
       " '__getitem__',\n",
       " '__gt__',\n",
       " '__hash__',\n",
       " '__iadd__',\n",
       " '__imul__',\n",
       " '__init__',\n",
       " '__init_subclass__',\n",
       " '__iter__',\n",
       " '__le__',\n",
       " '__len__',\n",
       " '__lt__',\n",
       " '__mul__',\n",
       " '__ne__',\n",
       " '__new__',\n",
       " '__reduce__',\n",
       " '__reduce_ex__',\n",
       " '__repr__',\n",
       " '__reversed__',\n",
       " '__rmul__',\n",
       " '__setattr__',\n",
       " '__setitem__',\n",
       " '__sizeof__',\n",
       " '__str__',\n",
       " '__subclasshook__',\n",
       " 'append',\n",
       " 'clear',\n",
       " 'copy',\n",
       " 'count',\n",
       " 'extend',\n",
       " 'index',\n",
       " 'insert',\n",
       " 'pop',\n",
       " 'remove',\n",
       " 'reverse',\n",
       " 'sort']"
      ]
     },
     "execution_count": 15,
     "metadata": {},
     "output_type": "execute_result"
    }
   ],
   "source": [
    "dir(list)"
   ]
  },
  {
   "cell_type": "markdown",
   "metadata": {},
   "source": [
    "Swap values"
   ]
  },
  {
   "cell_type": "code",
   "execution_count": 60,
   "metadata": {},
   "outputs": [],
   "source": [
    "a = 5\n",
    "b = 10"
   ]
  },
  {
   "cell_type": "code",
   "execution_count": null,
   "metadata": {},
   "outputs": [],
   "source": [
    "a, b = b, a"
   ]
  },
  {
   "cell_type": "code",
   "execution_count": 22,
   "metadata": {},
   "outputs": [
    {
     "name": "stdout",
     "output_type": "stream",
     "text": [
      "5 10\n"
     ]
    }
   ],
   "source": [
    "print(a, b)"
   ]
  },
  {
   "cell_type": "markdown",
   "metadata": {},
   "source": [
    "Chained comparisons"
   ]
  },
  {
   "cell_type": "code",
   "execution_count": 24,
   "metadata": {},
   "outputs": [],
   "source": [
    "a = 5"
   ]
  },
  {
   "cell_type": "code",
   "execution_count": 26,
   "metadata": {},
   "outputs": [
    {
     "data": {
      "text/plain": [
       "True"
      ]
     },
     "execution_count": 26,
     "metadata": {},
     "output_type": "execute_result"
    }
   ],
   "source": [
    "0 < a < 10"
   ]
  },
  {
   "cell_type": "markdown",
   "metadata": {},
   "source": [
    "# Immutability\n",
    "\n",
    "## Immutables:\n",
    "* int\n",
    "* float\n",
    "* str\n",
    "* bool\n",
    "* tuple\n",
    "\n",
    "## Mutables:\n",
    "* list\n",
    "* dict\n",
    "* set\n",
    "* custom classes"
   ]
  },
  {
   "cell_type": "markdown",
   "metadata": {},
   "source": [
    "Be careful with immutables. Avoid changing the values, iteratively because allocating memory costs"
   ]
  },
  {
   "cell_type": "code",
   "execution_count": 56,
   "metadata": {},
   "outputs": [
    {
     "name": "stdout",
     "output_type": "stream",
     "text": [
      "Ramones are: Johnny, Joey, Deedee, Tommy, \n"
     ]
    }
   ],
   "source": [
    "# Bad\n",
    "ramones = [\"Johnny\", \"Joey\", \"Deedee\", \"Tommy\"]\n",
    "message = \"Ramones are: \"\n",
    "for ramone in ramones:\n",
    "    message += ramone\n",
    "    message += ', '\n",
    "print(message)"
   ]
  },
  {
   "cell_type": "code",
   "execution_count": 57,
   "metadata": {},
   "outputs": [
    {
     "name": "stdout",
     "output_type": "stream",
     "text": [
      "Ramones are: Johnny, Joey, Deedee, Tommy\n"
     ]
    }
   ],
   "source": [
    "# Good\n",
    "ramones = [\"Johnny\", \"Joey\", \"Deedee\", \"Tommy\"]\n",
    "message = \"Ramones are: \" + ', '.join(ramones)\n",
    "print(message)"
   ]
  },
  {
   "cell_type": "markdown",
   "metadata": {},
   "source": [
    "Be careful with mutables. Assigning a mutable object to a new variable doesn't make a copy but a reference, thus two variables can change the same object and create confusion"
   ]
  },
  {
   "cell_type": "code",
   "execution_count": 1,
   "metadata": {},
   "outputs": [
    {
     "data": {
      "text/plain": [
       "True"
      ]
     },
     "execution_count": 1,
     "metadata": {},
     "output_type": "execute_result"
    }
   ],
   "source": [
    "a = [1, 2, 3, 4]\n",
    "b = a\n",
    "b.append(5)\n",
    "5 in a"
   ]
  },
  {
   "cell_type": "code",
   "execution_count": null,
   "metadata": {},
   "outputs": [],
   "source": []
  },
  {
   "cell_type": "code",
   "execution_count": 3,
   "metadata": {},
   "outputs": [
    {
     "name": "stdout",
     "output_type": "stream",
     "text": [
      "5\n"
     ]
    }
   ],
   "source": [
    "a = 5\n",
    "def my_function(number):\n",
    "    number += 1\n",
    "my_function(a)\n",
    "print(a)"
   ]
  },
  {
   "cell_type": "code",
   "execution_count": 4,
   "metadata": {},
   "outputs": [
    {
     "name": "stdout",
     "output_type": "stream",
     "text": [
      "[5, 3, -1]\n"
     ]
    }
   ],
   "source": [
    "a = [5, 3]\n",
    "def my_function(numbers):\n",
    "    numbers.append(-1)\n",
    "my_function(a)\n",
    "print(a)"
   ]
  },
  {
   "cell_type": "markdown",
   "metadata": {},
   "source": [
    "For-Else"
   ]
  },
  {
   "cell_type": "code",
   "execution_count": 69,
   "metadata": {},
   "outputs": [
    {
     "name": "stdout",
     "output_type": "stream",
     "text": [
      "no odd number\n"
     ]
    }
   ],
   "source": [
    "# Better\n",
    "list_ = [2, 4, 6]\n",
    "found = False\n",
    "for x in list_:\n",
    "    if x % 2:\n",
    "        print(f\"first odd found: {x}\")\n",
    "        found = True\n",
    "        break\n",
    "if not found:\n",
    "    print(\"no odd number\")"
   ]
  },
  {
   "cell_type": "code",
   "execution_count": 70,
   "metadata": {},
   "outputs": [
    {
     "name": "stdout",
     "output_type": "stream",
     "text": [
      "no odd number\n"
     ]
    }
   ],
   "source": [
    "# Better\n",
    "list_ = [2, 4, 6]\n",
    "for x in list_:\n",
    "    if x % 2:\n",
    "        print(f\"first odd found: {x}\")\n",
    "        break\n",
    "else:\n",
    "    print(\"no odd number\")"
   ]
  },
  {
   "cell_type": "code",
   "execution_count": 71,
   "metadata": {},
   "outputs": [
    {
     "name": "stdout",
     "output_type": "stream",
     "text": [
      "no odd number\n"
     ]
    }
   ],
   "source": [
    "# Also good\n",
    "def search_function(numbers):\n",
    "    for x in numbers:\n",
    "        if x % 2:\n",
    "            print(f\"first odd found: {x}\")\n",
    "            return\n",
    "    print(\"no odd number\")\n",
    "\n",
    "search_function([2, 4, 6])"
   ]
  },
  {
   "cell_type": "markdown",
   "metadata": {},
   "source": [
    "Expanding values\n",
    "https://www.python.org/dev/peps/pep-3132/"
   ]
  },
  {
   "cell_type": "code",
   "execution_count": 72,
   "metadata": {},
   "outputs": [],
   "source": [
    "a = (1, 2)"
   ]
  },
  {
   "cell_type": "code",
   "execution_count": 78,
   "metadata": {},
   "outputs": [],
   "source": [
    "b, c = a"
   ]
  },
  {
   "cell_type": "code",
   "execution_count": 79,
   "metadata": {},
   "outputs": [
    {
     "name": "stdout",
     "output_type": "stream",
     "text": [
      "1\n"
     ]
    }
   ],
   "source": [
    "print(b)"
   ]
  },
  {
   "cell_type": "code",
   "execution_count": 80,
   "metadata": {},
   "outputs": [
    {
     "name": "stdout",
     "output_type": "stream",
     "text": [
      "2\n"
     ]
    }
   ],
   "source": [
    "print(c)"
   ]
  },
  {
   "cell_type": "code",
   "execution_count": 89,
   "metadata": {},
   "outputs": [],
   "source": [
    "a = [1, 2, 3, 4]"
   ]
  },
  {
   "cell_type": "code",
   "execution_count": 90,
   "metadata": {},
   "outputs": [],
   "source": [
    "b, *c, d = a"
   ]
  },
  {
   "cell_type": "code",
   "execution_count": 92,
   "metadata": {},
   "outputs": [
    {
     "name": "stdout",
     "output_type": "stream",
     "text": [
      "1 [2, 3] 4\n"
     ]
    }
   ],
   "source": [
    "print(b, c, d)"
   ]
  },
  {
   "cell_type": "markdown",
   "metadata": {},
   "source": [
    "pathlib"
   ]
  },
  {
   "cell_type": "code",
   "execution_count": 95,
   "metadata": {},
   "outputs": [],
   "source": [
    "from pathlib import Path"
   ]
  },
  {
   "cell_type": "code",
   "execution_count": 99,
   "metadata": {},
   "outputs": [],
   "source": [
    "basedir = Path('/home/serkef/')"
   ]
  },
  {
   "cell_type": "code",
   "execution_count": 102,
   "metadata": {},
   "outputs": [],
   "source": [
    "downloads = basedir / 'Downloads'"
   ]
  },
  {
   "cell_type": "code",
   "execution_count": 115,
   "metadata": {},
   "outputs": [],
   "source": [
    "new_file = downloads / 'file.txt'"
   ]
  },
  {
   "cell_type": "code",
   "execution_count": 116,
   "metadata": {},
   "outputs": [],
   "source": [
    "with open(new_file, 'w') as file_out:\n",
    "    file_out.write('content')"
   ]
  },
  {
   "cell_type": "code",
   "execution_count": 117,
   "metadata": {},
   "outputs": [
    {
     "data": {
      "text/plain": [
       "True"
      ]
     },
     "execution_count": 117,
     "metadata": {},
     "output_type": "execute_result"
    }
   ],
   "source": [
    "new_file.exists()"
   ]
  },
  {
   "cell_type": "code",
   "execution_count": 118,
   "metadata": {},
   "outputs": [
    {
     "data": {
      "text/plain": [
       "'file.txt'"
      ]
     },
     "execution_count": 118,
     "metadata": {},
     "output_type": "execute_result"
    }
   ],
   "source": [
    "new_file.name"
   ]
  },
  {
   "cell_type": "code",
   "execution_count": 119,
   "metadata": {},
   "outputs": [
    {
     "data": {
      "text/plain": [
       "'.txt'"
      ]
     },
     "execution_count": 119,
     "metadata": {},
     "output_type": "execute_result"
    }
   ],
   "source": [
    "new_file.suffix"
   ]
  },
  {
   "cell_type": "code",
   "execution_count": 121,
   "metadata": {},
   "outputs": [
    {
     "data": {
      "text/plain": [
       "PosixPath('/home/serkef/Downloads')"
      ]
     },
     "execution_count": 121,
     "metadata": {},
     "output_type": "execute_result"
    }
   ],
   "source": [
    "new_file.parent"
   ]
  },
  {
   "cell_type": "code",
   "execution_count": 123,
   "metadata": {},
   "outputs": [
    {
     "data": {
      "text/plain": [
       "'/home/serkef/Downloads/file.txt'"
      ]
     },
     "execution_count": 123,
     "metadata": {},
     "output_type": "execute_result"
    }
   ],
   "source": [
    "str(new_file)"
   ]
  },
  {
   "cell_type": "markdown",
   "metadata": {},
   "source": [
    "Unpacking collections"
   ]
  },
  {
   "cell_type": "markdown",
   "metadata": {},
   "source": [
    "`*` unpacks series (lists, sets, tuples)\n",
    "\n",
    "`**` unpacks mappings (dictionaries)"
   ]
  },
  {
   "cell_type": "code",
   "execution_count": 129,
   "metadata": {},
   "outputs": [
    {
     "name": "stdout",
     "output_type": "stream",
     "text": [
      "[1, 2, 3, 'a', 'b', 'c']\n"
     ]
    }
   ],
   "source": [
    "list_a = [1, 2, 3]\n",
    "list_b = ['a', 'b', 'c']\n",
    "list_c = [*list_a, *list_b]\n",
    "print(list_c)"
   ]
  },
  {
   "cell_type": "code",
   "execution_count": 130,
   "metadata": {},
   "outputs": [
    {
     "name": "stdout",
     "output_type": "stream",
     "text": [
      "{'a': 1, 'b': 2, 'c': 3, 'd': -1, 'e': -2, 'f': -3}\n"
     ]
    }
   ],
   "source": [
    "dict_a = {'a': 1, 'b': 2, 'c': 3}\n",
    "dict_b = {'d': -1, 'e': -2, 'f': -3}\n",
    "dict_c = {**dict_a, **dict_b}\n",
    "print(dict_c)"
   ]
  },
  {
   "cell_type": "markdown",
   "metadata": {},
   "source": [
    "Argument packing/unpacking (starred expression)"
   ]
  },
  {
   "cell_type": "code",
   "execution_count": 136,
   "metadata": {},
   "outputs": [
    {
     "name": "stdout",
     "output_type": "stream",
     "text": [
      "<class 'tuple'>\n",
      "1\n",
      "2\n",
      "3\n"
     ]
    }
   ],
   "source": [
    "def foo(*tupplize):\n",
    "    print(type(tupplize))\n",
    "    for x in tupplize:\n",
    "        print(x)\n",
    "foo(1, 2, 3)"
   ]
  },
  {
   "cell_type": "code",
   "execution_count": 139,
   "metadata": {},
   "outputs": [
    {
     "name": "stdout",
     "output_type": "stream",
     "text": [
      "<class 'dict'>\n",
      "('a', 1)\n",
      "('b', 2)\n",
      "('c', 3)\n"
     ]
    }
   ],
   "source": [
    "def foo(**dictize):\n",
    "    print(type(dictize))\n",
    "    for x in dictize.items():\n",
    "        print(x)\n",
    "foo(a=1, b=2, c=3)"
   ]
  },
  {
   "cell_type": "markdown",
   "metadata": {},
   "source": [
    "Implicit string interpolation"
   ]
  },
  {
   "cell_type": "code",
   "execution_count": 140,
   "metadata": {},
   "outputs": [],
   "source": [
    "my_long_string = (\"We are no longer the knights who say Ni! \"\n",
    "                  \"We are now the knights who say ekki-ekki-\"\n",
    "                  \"ekki-p'tang-zoom-boing-z'nourrwringmm!\")"
   ]
  },
  {
   "cell_type": "markdown",
   "metadata": {},
   "source": [
    "Conditional Assignment\n",
    "\n",
    "`x if y else z`\n",
    "\n",
    "expression that evaluates to `x`, or `z` based on `y` bool value"
   ]
  },
  {
   "cell_type": "code",
   "execution_count": 141,
   "metadata": {},
   "outputs": [
    {
     "name": "stdout",
     "output_type": "stream",
     "text": [
      "python\n"
     ]
    }
   ],
   "source": [
    "print(\"monthy\" if False else \"python\")"
   ]
  },
  {
   "cell_type": "markdown",
   "metadata": {},
   "source": [
    "`x or y`\n",
    "\n",
    "expression that evaluates as `x` if boolean `x` is true, otherwise evaluates as `y`"
   ]
  },
  {
   "cell_type": "code",
   "execution_count": 143,
   "metadata": {},
   "outputs": [
    {
     "name": "stdout",
     "output_type": "stream",
     "text": [
      "Howdy knight!\n",
      "Howdy you!\n"
     ]
    }
   ],
   "source": [
    "def foo(name=None):\n",
    "    name = name or \"knight\"\n",
    "    print(f\"Howdy {name}!\")\n",
    "\n",
    "foo()\n",
    "foo('you')"
   ]
  },
  {
   "cell_type": "markdown",
   "metadata": {},
   "source": [
    "\"lambdas should be named 'make_function'. Then everybody would understand what they do, they make functions\""
   ]
  },
  {
   "cell_type": "code",
   "execution_count": 12,
   "metadata": {},
   "outputs": [
    {
     "name": "stdout",
     "output_type": "stream",
     "text": [
      "True\n"
     ]
    }
   ],
   "source": [
    "lambda x: x+1 # Read: make function that accepts one argument (x) and returns the result of the expression (x+1)\n",
    "\n",
    "# you should not assign lambdas to variables, but just to demonstrate\n",
    "foo = lambda x: x+1\n",
    "\n",
    "# foo and bar are identical\n",
    "def bar(x):\n",
    "    return x + 1\n",
    "\n",
    "print(foo(10) == bar(10))"
   ]
  },
  {
   "cell_type": "markdown",
   "metadata": {},
   "source": [
    "So why make a function in one line if I cannot call it later?\n",
    "- lambdas are mostly used to provide a function as an argument\n",
    "- eg. python function max gives the `max` element of an iterable (read: collection)\n",
    "But what if a user wants to order a list of strings based on the length of the word\n",
    "One would have to create a new list with the lengths of all words, and sort \"simultaneously\""
   ]
  },
  {
   "cell_type": "code",
   "execution_count": 11,
   "metadata": {},
   "outputs": [
    {
     "name": "stdout",
     "output_type": "stream",
     "text": [
      "Helen\n",
      "Helen\n",
      "Helen\n"
     ]
    }
   ],
   "source": [
    "# Bad\n",
    "names = [\"Mary\", \"Helen\", \"Joe\"]\n",
    "lengths = [len(name) for name in names]\n",
    "print(names[lengths.index(max(lengths))]) # read: find the max of length, find it's index and print the name with the same index\n",
    "\n",
    "# Better\n",
    "names = [\"Mary\", \"Helen\", \"Joe\"]\n",
    "print(max(names, key=lambda x: len(x))) # read: make a function that returns the length of a word, use it as the key metric to compare names and print the max\n",
    "\n",
    "# Best (my example was probably not so good)\n",
    "names = [\"Mary\", \"Helen\", \"Joe\"]\n",
    "print(max(names, key=len))  # (why create a lambda that is identical to `len`?)"
   ]
  },
  {
   "cell_type": "markdown",
   "metadata": {},
   "source": [
    "namedtuples are awesome. It's the easiest way to create a \"structured\" object in Python.\n",
    "- namedtuples are immutable, if you want to change the values of your object, it's not the right tool\n",
    "- namedtuples are like tuples, but you can refer to its content with names (instead of indices)"
   ]
  },
  {
   "cell_type": "code",
   "execution_count": 34,
   "metadata": {},
   "outputs": [
    {
     "name": "stdout",
     "output_type": "stream",
     "text": [
      "Oh ye\n",
      "Everything's fine\n"
     ]
    }
   ],
   "source": [
    "from random import choice\n",
    "\n",
    "# bad \n",
    "def my_risky_function():\n",
    "    error = choice([True, False])\n",
    "    message = \"WHAAAT\" if error else \"Everything's fine\"\n",
    "    return (error, message)\n",
    "\n",
    "result = my_risky_function()\n",
    "if result[0]:\n",
    "    print(\"Oh no\")\n",
    "else:\n",
    "    print(\"Oh ye\")\n",
    "print(result[1])"
   ]
  },
  {
   "cell_type": "code",
   "execution_count": 36,
   "metadata": {},
   "outputs": [
    {
     "name": "stdout",
     "output_type": "stream",
     "text": [
      "Oh ye\n",
      "Everything's fine\n"
     ]
    }
   ],
   "source": [
    "# Better\n",
    "from random import choice\n",
    "from collections import namedtuple\n",
    "\n",
    "Result = namedtuple(\"Result\", [\"fail\", \"message\"])\n",
    "\n",
    "# bad \n",
    "def my_risky_function():\n",
    "    error = choice([True, False])\n",
    "    message = \"WHAAAT\" if error else \"Everything's fine\"\n",
    "    return Result(error, message)\n",
    "\n",
    "result = my_risky_function()\n",
    "if result.fail:\n",
    "    print(\"Oh no\")\n",
    "else:\n",
    "    print(\"Oh ye\")\n",
    "print(result.message)"
   ]
  },
  {
   "cell_type": "markdown",
   "metadata": {},
   "source": [
    "Instead of `str.format` you can use `format_map` and provide a map (dictionary/json/etc)"
   ]
  },
  {
   "cell_type": "code",
   "execution_count": 42,
   "metadata": {},
   "outputs": [
    {
     "name": "stdout",
     "output_type": "stream",
     "text": [
      "Steve Jobs works at Apple\n",
      "Steve Jobs works at Apple\n"
     ]
    }
   ],
   "source": [
    "info = {\"company\":\"Apple\", \"name\":\"Steve Jobs\"}\n",
    "\n",
    "# Ok \n",
    "print(f'{info[\"name\"]} works at {info[\"company\"]}')\n",
    "\n",
    "# Better\n",
    "print('{name} works at {company}'.format_map(info)) "
   ]
  },
  {
   "cell_type": "markdown",
   "metadata": {},
   "source": [
    "dict views\n",
    "\n",
    "In python when you are looping over a dictionary, you are looping over the keys (by default)\n",
    "\n",
    "dict views allow you to explicitly iterate on key/value/both"
   ]
  },
  {
   "cell_type": "code",
   "execution_count": 45,
   "metadata": {},
   "outputs": [
    {
     "name": "stdout",
     "output_type": "stream",
     "text": [
      "True\n",
      "False\n",
      "Jimi Hendrix\n",
      "Janis Joplin\n",
      "Jim Morriso\n",
      "Kurt Cobain\n",
      "Jimi Hendrix\n",
      "Janis Joplin\n",
      "Jim Morriso\n",
      "Kurt Cobain\n",
      "33\n",
      "33\n",
      "33\n",
      "33\n",
      "Jimi Hendrix died at 33\n",
      "Janis Joplin died at 33\n",
      "Jim Morriso died at 33\n",
      "Kurt Cobain died at 33\n"
     ]
    }
   ],
   "source": [
    "died_at = {\"Jimi Hendrix\": 33, \"Janis Joplin\": 33, \"Jim Morriso\": 33, \"Kurt Cobain\": 33}\n",
    "print(\"Jimi Hendrix\" in died_at)\n",
    "print(33 in died_at)\n",
    "for name in died_at:\n",
    "    print(name)\n",
    "for name in died_at.keys():\n",
    "    print(name)\n",
    "for age in died_at.values():\n",
    "    print(age)\n",
    "for name, age in died_at.items():\n",
    "    print(f\"{name} died at {age}\")"
   ]
  },
  {
   "cell_type": "markdown",
   "metadata": {},
   "source": [
    "identity / equality"
   ]
  },
  {
   "cell_type": "code",
   "execution_count": null,
   "metadata": {},
   "outputs": [],
   "source": [
    "# Identity matters (based on the memory location)\n",
    "id(a) == id(b)\n",
    "\n",
    "# Equality matters (for non-scalars and custom objects, can be tricky)\n",
    "a == b\n",
    "\n",
    "# for Collections where duplicates matter\n",
    "from collections import Counter\n",
    "Counter(a) == Counter(b)\n",
    "\n",
    "# for Collections where "
   ]
  },
  {
   "cell_type": "markdown",
   "metadata": {},
   "source": [
    "Sources / Inspirations:\n",
    "   \n",
    "* https://hackernoon.com/python-tricks-101-2836251922e0\n",
    "* https://github.com/brennerm/PyTricks\n",
    "* https://twitter.com/raymondh"
   ]
  },
  {
   "cell_type": "code",
   "execution_count": null,
   "metadata": {},
   "outputs": [],
   "source": []
  }
 ],
 "metadata": {
  "kernelspec": {
   "display_name": "Python 3",
   "language": "python",
   "name": "python3"
  },
  "language_info": {
   "codemirror_mode": {
    "name": "ipython",
    "version": 3
   },
   "file_extension": ".py",
   "mimetype": "text/x-python",
   "name": "python",
   "nbconvert_exporter": "python",
   "pygments_lexer": "ipython3",
   "version": "3.6.5"
  }
 },
 "nbformat": 4,
 "nbformat_minor": 2
}
